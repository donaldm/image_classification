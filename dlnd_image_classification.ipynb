{
 "cells": [
  {
   "cell_type": "markdown",
   "metadata": {
    "collapsed": true
   },
   "source": [
    "# Image Classification\n",
    "In this project, you'll classify images from the [CIFAR-10 dataset](https://www.cs.toronto.edu/~kriz/cifar.html).  The dataset consists of airplanes, dogs, cats, and other objects. You'll preprocess the images, then train a convolutional neural network on all the samples. The images need to be normalized and the labels need to be one-hot encoded.  You'll get to apply what you learned and build a convolutional, max pooling, dropout, and fully connected layers.  At the end, you'll get to see your neural network's predictions on the sample images.\n",
    "## Get the Data\n",
    "Run the following cell to download the [CIFAR-10 dataset for python](https://www.cs.toronto.edu/~kriz/cifar-10-python.tar.gz)."
   ]
  },
  {
   "cell_type": "code",
   "execution_count": 1,
   "metadata": {},
   "outputs": [
    {
     "name": "stdout",
     "output_type": "stream",
     "text": [
      "All files found!\n"
     ]
    }
   ],
   "source": [
    "\"\"\"\n",
    "DON'T MODIFY ANYTHING IN THIS CELL THAT IS BELOW THIS LINE\n",
    "\"\"\"\n",
    "from urllib.request import urlretrieve\n",
    "from os.path import isfile, isdir\n",
    "from tqdm import tqdm\n",
    "import problem_unittests as tests\n",
    "import tarfile\n",
    "\n",
    "cifar10_dataset_folder_path = 'cifar-10-batches-py'\n",
    "\n",
    "# Use Floyd's cifar-10 dataset if present\n",
    "floyd_cifar10_location = '/input/cifar-10/python.tar.gz'\n",
    "if isfile(floyd_cifar10_location):\n",
    "    tar_gz_path = floyd_cifar10_location\n",
    "else:\n",
    "    tar_gz_path = 'cifar-10-python.tar.gz'\n",
    "\n",
    "class DLProgress(tqdm):\n",
    "    last_block = 0\n",
    "\n",
    "    def hook(self, block_num=1, block_size=1, total_size=None):\n",
    "        self.total = total_size\n",
    "        self.update((block_num - self.last_block) * block_size)\n",
    "        self.last_block = block_num\n",
    "\n",
    "if not isfile(tar_gz_path):\n",
    "    with DLProgress(unit='B', unit_scale=True, miniters=1, desc='CIFAR-10 Dataset') as pbar:\n",
    "        urlretrieve(\n",
    "            'https://www.cs.toronto.edu/~kriz/cifar-10-python.tar.gz',\n",
    "            tar_gz_path,\n",
    "            pbar.hook)\n",
    "\n",
    "if not isdir(cifar10_dataset_folder_path):\n",
    "    with tarfile.open(tar_gz_path) as tar:\n",
    "        tar.extractall()\n",
    "        tar.close()\n",
    "\n",
    "\n",
    "tests.test_folder_path(cifar10_dataset_folder_path)"
   ]
  },
  {
   "cell_type": "markdown",
   "metadata": {},
   "source": [
    "## Explore the Data\n",
    "The dataset is broken into batches to prevent your machine from running out of memory.  The CIFAR-10 dataset consists of 5 batches, named `data_batch_1`, `data_batch_2`, etc.. Each batch contains the labels and images that are one of the following:\n",
    "* airplane\n",
    "* automobile\n",
    "* bird\n",
    "* cat\n",
    "* deer\n",
    "* dog\n",
    "* frog\n",
    "* horse\n",
    "* ship\n",
    "* truck\n",
    "\n",
    "Understanding a dataset is part of making predictions on the data.  Play around with the code cell below by changing the `batch_id` and `sample_id`. The `batch_id` is the id for a batch (1-5). The `sample_id` is the id for a image and label pair in the batch.\n",
    "\n",
    "Ask yourself \"What are all possible labels?\", \"What is the range of values for the image data?\", \"Are the labels in order or random?\".  Answers to questions like these will help you preprocess the data and end up with better predictions."
   ]
  },
  {
   "cell_type": "code",
   "execution_count": 2,
   "metadata": {},
   "outputs": [
    {
     "name": "stdout",
     "output_type": "stream",
     "text": [
      "\n",
      "Stats of batch 1:\n",
      "Samples: 10000\n",
      "Label Counts: {0: 1005, 1: 974, 2: 1032, 3: 1016, 4: 999, 5: 937, 6: 1030, 7: 1001, 8: 1025, 9: 981}\n",
      "First 20 Labels: [6, 9, 9, 4, 1, 1, 2, 7, 8, 3, 4, 7, 7, 2, 9, 9, 9, 3, 2, 6]\n",
      "\n",
      "Example of Image 5:\n",
      "Image - Min Value: 0 Max Value: 252\n",
      "Image - Shape: (32, 32, 3)\n",
      "Label - Label Id: 1 Name: automobile\n"
     ]
    },
    {
     "data": {
      "image/png": "[encoded data removed]",
      "text/plain": [
       "<matplotlib.figure.Figure at 0x7f38153819e8>"
      ]
     },
     "metadata": {
      "image/png": {
       "height": 250,
       "width": 253
      }
     },
     "output_type": "display_data"
    }
   ],
   "source": [
    "%matplotlib inline\n",
    "%config InlineBackend.figure_format = 'retina'\n",
    "\n",
    "import helper\n",
    "import numpy as np\n",
    "\n",
    "# Explore the dataset\n",
    "batch_id = 1\n",
    "sample_id = 5\n",
    "helper.display_stats(cifar10_dataset_folder_path, batch_id, sample_id)"
   ]
  },
  {
   "cell_type": "markdown",
   "metadata": {},
   "source": [
    "## Implement Preprocess Functions\n",
    "### Normalize\n",
    "In the cell below, implement the `normalize` function to take in image data, `x`, and return it as a normalized Numpy array. The values should be in the range of 0 to 1, inclusive.  The return object should be the same shape as `x`."
   ]
  },
  {
   "cell_type": "code",
   "execution_count": 19,
   "metadata": {},
   "outputs": [
    {
     "name": "stdout",
     "output_type": "stream",
     "text": [
      "Tests Passed\n"
     ]
    }
   ],
   "source": [
    "def normalize(x):\n",
    "    \"\"\"\n",
    "    Normalize a list of sample image data in the range of 0 to 1\n",
    "    : x: List of image data.  The image shape is (32, 32, 3)\n",
    "    : return: Numpy array of normalize data\n",
    "    \"\"\"\n",
    "    #convert rgb value to 0 to 1\n",
    "    return (x / 255.0)\n",
    "\n",
    "\n",
    "\"\"\"\n",
    "DON'T MODIFY ANYTHING IN THIS CELL THAT IS BELOW THIS LINE\n",
    "\"\"\"\n",
    "tests.test_normalize(normalize)"
   ]
  },
  {
   "cell_type": "markdown",
   "metadata": {},
   "source": [
    "### One-hot encode\n",
    "Just like the previous code cell, you'll be implementing a function for preprocessing.  This time, you'll implement the `one_hot_encode` function. The input, `x`, are a list of labels.  Implement the function to return the list of labels as One-Hot encoded Numpy array.  The possible values for labels are 0 to 9. The one-hot encoding function should return the same encoding for each value between each call to `one_hot_encode`.  Make sure to save the map of encodings outside the function.\n",
    "\n",
    "Hint: Don't reinvent the wheel."
   ]
  },
  {
   "cell_type": "code",
   "execution_count": 20,
   "metadata": {},
   "outputs": [
    {
     "name": "stdout",
     "output_type": "stream",
     "text": [
      "Tests Passed\n"
     ]
    }
   ],
   "source": [
    "def one_hot_encode(x):\n",
    "    \"\"\"\n",
    "    One hot encode a list of sample labels. Return a one-hot encoded vector for each label.\n",
    "    : x: List of sample Labels\n",
    "    : return: Numpy array of one-hot encoded labels\n",
    "    \"\"\"\n",
    "    return np.eye(10)[x]\n",
    "\n",
    "\"\"\"\n",
    "DON'T MODIFY ANYTHING IN THIS CELL THAT IS BELOW THIS LINE\n",
    "\"\"\"\n",
    "tests.test_one_hot_encode(one_hot_encode)"
   ]
  },
  {
   "cell_type": "markdown",
   "metadata": {},
   "source": [
    "### Randomize Data\n",
    "As you saw from exploring the data above, the order of the samples are randomized.  It doesn't hurt to randomize it again, but you don't need to for this dataset."
   ]
  },
  {
   "cell_type": "markdown",
   "metadata": {},
   "source": [
    "## Preprocess all the data and save it\n",
    "Running the code cell below will preprocess all the CIFAR-10 data and save it to file. The code below also uses 10% of the training data for validation."
   ]
  },
  {
   "cell_type": "code",
   "execution_count": 21,
   "metadata": {
    "collapsed": true
   },
   "outputs": [],
   "source": [
    "\"\"\"\n",
    "DON'T MODIFY ANYTHING IN THIS CELL\n",
    "\"\"\"\n",
    "# Preprocess Training, Validation, and Testing Data\n",
    "helper.preprocess_and_save_data(cifar10_dataset_folder_path, normalize, one_hot_encode)"
   ]
  },
  {
   "cell_type": "markdown",
   "metadata": {},
   "source": [
    "# Check Point\n",
    "This is your first checkpoint.  If you ever decide to come back to this notebook or have to restart the notebook, you can start from here.  The preprocessed data has been saved to disk."
   ]
  },
  {
   "cell_type": "code",
   "execution_count": 22,
   "metadata": {
    "collapsed": true
   },
   "outputs": [],
   "source": [
    "\"\"\"\n",
    "DON'T MODIFY ANYTHING IN THIS CELL\n",
    "\"\"\"\n",
    "import pickle\n",
    "import problem_unittests as tests\n",
    "import helper\n",
    "\n",
    "# Load the Preprocessed Validation data\n",
    "valid_features, valid_labels = pickle.load(open('preprocess_validation.p', mode='rb'))"
   ]
  },
  {
   "cell_type": "markdown",
   "metadata": {},
   "source": [
    "## Build the network\n",
    "For the neural network, you'll build each layer into a function.  Most of the code you've seen has been outside of functions. To test your code more thoroughly, we require that you put each layer in a function.  This allows us to give you better feedback and test for simple mistakes using our unittests before you submit your project.\n",
    "\n",
    ">**Note:** If you're finding it hard to dedicate enough time for this course each week, we've provided a small shortcut to this part of the project. In the next couple of problems, you'll have the option to use classes from the [TensorFlow Layers](https://www.tensorflow.org/api_docs/python/tf/layers) or [TensorFlow Layers (contrib)](https://www.tensorflow.org/api_guides/python/contrib.layers) packages to build each layer, except the layers you build in the \"Convolutional and Max Pooling Layer\" section.  TF Layers is similar to Keras's and TFLearn's abstraction to layers, so it's easy to pickup.\n",
    "\n",
    ">However, if you would like to get the most out of this course, try to solve all the problems _without_ using anything from the TF Layers packages. You **can** still use classes from other packages that happen to have the same name as ones you find in TF Layers! For example, instead of using the TF Layers version of the `conv2d` class, [tf.layers.conv2d](https://www.tensorflow.org/api_docs/python/tf/layers/conv2d), you would want to use the TF Neural Network version of `conv2d`, [tf.nn.conv2d](https://www.tensorflow.org/api_docs/python/tf/nn/conv2d). \n",
    "\n",
    "Let's begin!\n",
    "\n",
    "### Input\n",
    "The neural network needs to read the image data, one-hot encoded labels, and dropout keep probability. Implement the following functions\n",
    "* Implement `neural_net_image_input`\n",
    " * Return a [TF Placeholder](https://www.tensorflow.org/api_docs/python/tf/placeholder)\n",
    " * Set the shape using `image_shape` with batch size set to `None`.\n",
    " * Name the TensorFlow placeholder \"x\" using the TensorFlow `name` parameter in the [TF Placeholder](https://www.tensorflow.org/api_docs/python/tf/placeholder).\n",
    "* Implement `neural_net_label_input`\n",
    " * Return a [TF Placeholder](https://www.tensorflow.org/api_docs/python/tf/placeholder)\n",
    " * Set the shape using `n_classes` with batch size set to `None`.\n",
    " * Name the TensorFlow placeholder \"y\" using the TensorFlow `name` parameter in the [TF Placeholder](https://www.tensorflow.org/api_docs/python/tf/placeholder).\n",
    "* Implement `neural_net_keep_prob_input`\n",
    " * Return a [TF Placeholder](https://www.tensorflow.org/api_docs/python/tf/placeholder) for dropout keep probability.\n",
    " * Name the TensorFlow placeholder \"keep_prob\" using the TensorFlow `name` parameter in the [TF Placeholder](https://www.tensorflow.org/api_docs/python/tf/placeholder).\n",
    "\n",
    "These names will be used at the end of the project to load your saved model.\n",
    "\n",
    "Note: `None` for shapes in TensorFlow allow for a dynamic size."
   ]
  },
  {
   "cell_type": "code",
   "execution_count": 23,
   "metadata": {},
   "outputs": [
    {
     "name": "stdout",
     "output_type": "stream",
     "text": [
      "Image Input Tests Passed.\n",
      "Label Input Tests Passed.\n",
      "Keep Prob Tests Passed.\n"
     ]
    }
   ],
   "source": [
    "import tensorflow as tf\n",
    "\n",
    "def neural_net_image_input(image_shape):\n",
    "    \"\"\"\n",
    "    Return a Tensor for a bach of image input\n",
    "    : image_shape: Shape of the images\n",
    "    : return: Tensor for image input.\n",
    "    \"\"\"\n",
    "    return tf.placeholder(tf.float32, shape=(None, image_shape[0], image_shape[1], image_shape[2]), name='x')\n",
    "\n",
    "\n",
    "def neural_net_label_input(n_classes):\n",
    "    \"\"\"\n",
    "    Return a Tensor for a batch of label input\n",
    "    : n_classes: Number of classes\n",
    "    : return: Tensor for label input.\n",
    "    \"\"\"\n",
    "    return tf.placeholder(tf.float32, shape=(None, n_classes), name='y')\n",
    "\n",
    "\n",
    "def neural_net_keep_prob_input():\n",
    "    \"\"\"\n",
    "    Return a Tensor for keep probability\n",
    "    : return: Tensor for keep probability.\n",
    "    \"\"\"\n",
    "    # TODO: Implement Function\n",
    "    return tf.placeholder(tf.float32, name='keep_prob')\n",
    "\n",
    "\n",
    "\"\"\"\n",
    "DON'T MODIFY ANYTHING IN THIS CELL THAT IS BELOW THIS LINE\n",
    "\"\"\"\n",
    "tf.reset_default_graph()\n",
    "tests.test_nn_image_inputs(neural_net_image_input)\n",
    "tests.test_nn_label_inputs(neural_net_label_input)\n",
    "tests.test_nn_keep_prob_inputs(neural_net_keep_prob_input)"
   ]
  },
  {
   "cell_type": "markdown",
   "metadata": {},
   "source": [
    "### Convolution and Max Pooling Layer\n",
    "Convolution layers have a lot of success with images. For this code cell, you should implement the function `conv2d_maxpool` to apply convolution then max pooling:\n",
    "* Create the weight and bias using `conv_ksize`, `conv_num_outputs` and the shape of `x_tensor`.\n",
    "* Apply a convolution to `x_tensor` using weight and `conv_strides`.\n",
    " * We recommend you use same padding, but you're welcome to use any padding.\n",
    "* Add bias\n",
    "* Add a nonlinear activation to the convolution.\n",
    "* Apply Max Pooling using `pool_ksize` and `pool_strides`.\n",
    " * We recommend you use same padding, but you're welcome to use any padding.\n",
    "\n",
    "**Note:** You **can't** use [TensorFlow Layers](https://www.tensorflow.org/api_docs/python/tf/layers) or [TensorFlow Layers (contrib)](https://www.tensorflow.org/api_guides/python/contrib.layers) for **this** layer, but you can still use TensorFlow's [Neural Network](https://www.tensorflow.org/api_docs/python/tf/nn) package. You may still use the shortcut option for all the **other** layers."
   ]
  },
  {
   "cell_type": "code",
   "execution_count": 8,
   "metadata": {},
   "outputs": [
    {
     "name": "stdout",
     "output_type": "stream",
     "text": [
      "Tests Passed\n"
     ]
    }
   ],
   "source": [
    "def conv2d_maxpool(x_tensor, conv_num_outputs, conv_ksize, conv_strides, pool_ksize, pool_strides):\n",
    "    \"\"\"\n",
    "    Apply convolution then max pooling to x_tensor\n",
    "    :param x_tensor: TensorFlow Tensor\n",
    "    :param conv_num_outputs: Number of outputs for the convolutional layer\n",
    "    :param conv_ksize: kernal size 2-D Tuple for the convolutional layer\n",
    "    :param conv_strides: Stride 2-D Tuple for convolution\n",
    "    :param pool_ksize: kernal size 2-D Tuple for pool\n",
    "    :param pool_strides: Stride 2-D Tuple for pool\n",
    "    : return: A tensor that represents convolution and max pooling of x_tensor\n",
    "    \"\"\"\n",
    "    \n",
    "    dim = x_tensor.get_shape().as_list()\n",
    "    layer_shape = [conv_ksize[0], conv_ksize[1], dim[3], conv_num_outputs]\n",
    "    # Weight and bias\n",
    "    weight = tf.Variable(tf.truncated_normal(layer_shape, 0, 0.1))\n",
    "\n",
    "    bias = tf.Variable(tf.zeros(conv_num_outputs))\n",
    "\n",
    "    conv_layer = tf.nn.conv2d(x_tensor, weight, strides=[1] + list(conv_strides) + [1], padding='SAME')\n",
    "    conv_layer = tf.nn.bias_add(conv_layer, bias)\n",
    "    # Apply Max Pooling\n",
    "    conv_layer = tf.nn.max_pool(\n",
    "        conv_layer,\n",
    "        ksize=[1] + list(pool_ksize) + [1],\n",
    "        strides=[1] + list(pool_strides) + [1],\n",
    "        padding='SAME')\n",
    "    conv_layer = tf.nn.relu(conv_layer)\n",
    "    \n",
    "    # TODO: Implement Function\n",
    "    return conv_layer\n",
    "\n",
    "\n",
    "\"\"\"\n",
    "DON'T MODIFY ANYTHING IN THIS CELL THAT IS BELOW THIS LINE\n",
    "\"\"\"\n",
    "tests.test_con_pool(conv2d_maxpool)"
   ]
  },
  {
   "cell_type": "markdown",
   "metadata": {},
   "source": [
    "### Flatten Layer\n",
    "Implement the `flatten` function to change the dimension of `x_tensor` from a 4-D tensor to a 2-D tensor.  The output should be the shape (*Batch Size*, *Flattened Image Size*). Shortcut option: you can use classes from the [TensorFlow Layers](https://www.tensorflow.org/api_docs/python/tf/layers) or [TensorFlow Layers (contrib)](https://www.tensorflow.org/api_guides/python/contrib.layers) packages for this layer. For more of a challenge, only use other TensorFlow packages."
   ]
  },
  {
   "cell_type": "code",
   "execution_count": 24,
   "metadata": {},
   "outputs": [
    {
     "name": "stdout",
     "output_type": "stream",
     "text": [
      "Tests Passed\n"
     ]
    }
   ],
   "source": [
    "def flatten(x_tensor):\n",
    "    \"\"\"\n",
    "    Flatten x_tensor to (Batch Size, Flattened Image Size)\n",
    "    : x_tensor: A tensor of size (Batch Size, ...), where ... are the image dimensions.\n",
    "    : return: A tensor of size (Batch Size, Flattened Image Size).\n",
    "    \"\"\"\n",
    "    # TODO: Implement Function\n",
    "    return tf.contrib.layers.flatten(x_tensor)\n",
    "\n",
    "\n",
    "\"\"\"\n",
    "DON'T MODIFY ANYTHING IN THIS CELL THAT IS BELOW THIS LINE\n",
    "\"\"\"\n",
    "tests.test_flatten(flatten)"
   ]
  },
  {
   "cell_type": "markdown",
   "metadata": {},
   "source": [
    "### Fully-Connected Layer\n",
    "Implement the `fully_conn` function to apply a fully connected layer to `x_tensor` with the shape (*Batch Size*, *num_outputs*). Shortcut option: you can use classes from the [TensorFlow Layers](https://www.tensorflow.org/api_docs/python/tf/layers) or [TensorFlow Layers (contrib)](https://www.tensorflow.org/api_guides/python/contrib.layers) packages for this layer. For more of a challenge, only use other TensorFlow packages."
   ]
  },
  {
   "cell_type": "code",
   "execution_count": 25,
   "metadata": {},
   "outputs": [
    {
     "name": "stdout",
     "output_type": "stream",
     "text": [
      "Tests Passed\n"
     ]
    }
   ],
   "source": [
    "def fully_conn(x_tensor, num_outputs):\n",
    "    \"\"\"\n",
    "    Apply a fully connected layer to x_tensor using weight and bias\n",
    "    : x_tensor: A 2-D tensor where the first dimension is batch size.\n",
    "    : num_outputs: The number of output that the new tensor should be.\n",
    "    : return: A 2-D tensor where the second dimension is num_outputs.\n",
    "    \"\"\"\n",
    "    # TODO: Implement Function\n",
    "    return tf.contrib.layers.fully_connected(inputs=x_tensor, num_outputs=num_outputs, activation_fn=tf.nn.relu)\n",
    "\n",
    "\n",
    "\"\"\"\n",
    "DON'T MODIFY ANYTHING IN THIS CELL THAT IS BELOW THIS LINE\n",
    "\"\"\"\n",
    "tests.test_fully_conn(fully_conn)"
   ]
  },
  {
   "cell_type": "markdown",
   "metadata": {},
   "source": [
    "### Output Layer\n",
    "Implement the `output` function to apply a fully connected layer to `x_tensor` with the shape (*Batch Size*, *num_outputs*). Shortcut option: you can use classes from the [TensorFlow Layers](https://www.tensorflow.org/api_docs/python/tf/layers) or [TensorFlow Layers (contrib)](https://www.tensorflow.org/api_guides/python/contrib.layers) packages for this layer. For more of a challenge, only use other TensorFlow packages.\n",
    "\n",
    "**Note:** Activation, softmax, or cross entropy should **not** be applied to this."
   ]
  },
  {
   "cell_type": "code",
   "execution_count": 26,
   "metadata": {},
   "outputs": [
    {
     "name": "stdout",
     "output_type": "stream",
     "text": [
      "Tests Passed\n"
     ]
    }
   ],
   "source": [
    "def output(x_tensor, num_outputs):\n",
    "    \"\"\"\n",
    "    Apply a output layer to x_tensor using weight and bias\n",
    "    : x_tensor: A 2-D tensor where the first dimension is batch size.\n",
    "    : num_outputs: The number of output that the new tensor should be.\n",
    "    : return: A 2-D tensor where the second dimension is num_outputs.\n",
    "    \"\"\"\n",
    "    # TODO: Implement Function\n",
    "    return tf.contrib.layers.linear(x_tensor, num_outputs)\n",
    "\n",
    "\n",
    "\"\"\"\n",
    "DON'T MODIFY ANYTHING IN THIS CELL THAT IS BELOW THIS LINE\n",
    "\"\"\"\n",
    "tests.test_output(output)"
   ]
  },
  {
   "cell_type": "markdown",
   "metadata": {},
   "source": [
    "### Create Convolutional Model\n",
    "Implement the function `conv_net` to create a convolutional neural network model. The function takes in a batch of images, `x`, and outputs logits.  Use the layers you created above to create this model:\n",
    "\n",
    "* Apply 1, 2, or 3 Convolution and Max Pool layers\n",
    "* Apply a Flatten Layer\n",
    "* Apply 1, 2, or 3 Fully Connected Layers\n",
    "* Apply an Output Layer\n",
    "* Return the output\n",
    "* Apply [TensorFlow's Dropout](https://www.tensorflow.org/api_docs/python/tf/nn/dropout) to one or more layers in the model using `keep_prob`. "
   ]
  },
  {
   "cell_type": "code",
   "execution_count": 75,
   "metadata": {},
   "outputs": [
    {
     "name": "stdout",
     "output_type": "stream",
     "text": [
      "Neural Network Built!\n"
     ]
    }
   ],
   "source": [
    "def conv_net(x, keep_prob):\n",
    "    \"\"\"\n",
    "    Create a convolutional neural network model\n",
    "    : x: Placeholder tensor that holds image data.\n",
    "    : keep_prob: Placeholder tensor that hold dropout keep probability.\n",
    "    : return: Tensor that represents logits\n",
    "    \"\"\"\n",
    "    # TODO: Apply 1, 2, or 3 Convolution and Max Pool layers\n",
    "    #    Play around with different number of outputs, kernel size and stride\n",
    "    # Function Definition from Above:\n",
    "    #    conv2d_maxpool(x_tensor, conv_num_outputs, conv_ksize, conv_strides, pool_ksize, pool_strides)\n",
    "\n",
    "    max_pool_layer = conv2d_maxpool(x, conv_num_outputs=64,conv_ksize=(4, 4), conv_strides=(2, 2), pool_ksize=(2, 2), pool_strides=(2,2))\n",
    "    max_pool_layer = conv2d_maxpool(max_pool_layer, conv_num_outputs=128,conv_ksize=(4, 4), conv_strides=(2, 2), pool_ksize=(2, 2), pool_strides=(2,2))\n",
    "    max_pool_layer = conv2d_maxpool(max_pool_layer, conv_num_outputs=256,conv_ksize=(4, 4), conv_strides=(2, 2), pool_ksize=(2, 2), pool_strides=(2,2))\n",
    "    # TODO: Apply a Flatten Layer\n",
    "    # Function Definition from Above:\n",
    "    #   flatten(x_tensor)\n",
    "    \n",
    "    flatten_layer = flatten(max_pool_layer)\n",
    "\n",
    "    # TODO: Apply 1, 2, or 3 Fully Connected Layers\n",
    "    #    Play around with different number of outputs\n",
    "    # Function Definition from Above:\n",
    "    #   fully_conn(x_tensor, num_outputs)\n",
    "    fully_connected_layer = fully_conn(flatten_layer, 512)\n",
    "    fully_connected_layer = tf.nn.dropout(fully_connected_layer, keep_prob)\n",
    "    fully_connected_layer = fully_conn(fully_connected_layer, 512)\n",
    "    fully_connected_layer = tf.nn.dropout(fully_connected_layer, keep_prob)\n",
    "    fully_connected_layer = fully_conn(fully_connected_layer, 512)\n",
    "    fully_connected_layer = tf.nn.dropout(fully_connected_layer, keep_prob)\n",
    "    # TODO: Apply an Output Layer\n",
    "    #    Set this to the number of classes\n",
    "    # Function Definition from Above:\n",
    "    #   output(x_tensor, num_outputs)\n",
    "    \n",
    "    output_layer = output(fully_connected_layer, 10)\n",
    "\n",
    "    # TODO: return output\n",
    "    return output_layer\n",
    "\n",
    "\n",
    "\"\"\"\n",
    "DON'T MODIFY ANYTHING IN THIS CELL THAT IS BELOW THIS LINE\n",
    "\"\"\"\n",
    "\n",
    "##############################\n",
    "## Build the Neural Network ##\n",
    "##############################\n",
    "\n",
    "# Remove previous weights, bias, inputs, etc..\n",
    "tf.reset_default_graph()\n",
    "\n",
    "# Inputs\n",
    "x = neural_net_image_input((32, 32, 3))\n",
    "y = neural_net_label_input(10)\n",
    "keep_prob = neural_net_keep_prob_input()\n",
    "\n",
    "# Model\n",
    "logits = conv_net(x, keep_prob)\n",
    "\n",
    "# Name logits Tensor, so that is can be loaded from disk after training\n",
    "logits = tf.identity(logits, name='logits')\n",
    "\n",
    "# Loss and Optimizer\n",
    "cost = tf.reduce_mean(tf.nn.softmax_cross_entropy_with_logits(logits=logits, labels=y))\n",
    "optimizer = tf.train.AdamOptimizer().minimize(cost)\n",
    "\n",
    "# Accuracy\n",
    "correct_pred = tf.equal(tf.argmax(logits, 1), tf.argmax(y, 1))\n",
    "accuracy = tf.reduce_mean(tf.cast(correct_pred, tf.float32), name='accuracy')\n",
    "\n",
    "tests.test_conv_net(conv_net)"
   ]
  },
  {
   "cell_type": "markdown",
   "metadata": {},
   "source": [
    "## Train the Neural Network\n",
    "### Single Optimization\n",
    "Implement the function `train_neural_network` to do a single optimization.  The optimization should use `optimizer` to optimize in `session` with a `feed_dict` of the following:\n",
    "* `x` for image input\n",
    "* `y` for labels\n",
    "* `keep_prob` for keep probability for dropout\n",
    "\n",
    "This function will be called for each batch, so `tf.global_variables_initializer()` has already been called.\n",
    "\n",
    "Note: Nothing needs to be returned. This function is only optimizing the neural network."
   ]
  },
  {
   "cell_type": "code",
   "execution_count": 76,
   "metadata": {},
   "outputs": [
    {
     "name": "stdout",
     "output_type": "stream",
     "text": [
      "Tests Passed\n"
     ]
    }
   ],
   "source": [
    "def train_neural_network(session, optimizer, keep_probability, feature_batch, label_batch):\n",
    "    \"\"\"\n",
    "    Optimize the session on a batch of images and labels\n",
    "    : session: Current TensorFlow session\n",
    "    : optimizer: TensorFlow optimizer function\n",
    "    : keep_probability: keep probability\n",
    "    : feature_batch: Batch of Numpy image data\n",
    "    : label_batch: Batch of Numpy label data\n",
    "    \"\"\"\n",
    "    # TODO: Implement Function\n",
    "    session.run(optimizer, feed_dict={x: feature_batch, y: label_batch, keep_prob: keep_probability})\n",
    "\n",
    "\n",
    "\"\"\"\n",
    "DON'T MODIFY ANYTHING IN THIS CELL THAT IS BELOW THIS LINE\n",
    "\"\"\"\n",
    "tests.test_train_nn(train_neural_network)"
   ]
  },
  {
   "cell_type": "markdown",
   "metadata": {},
   "source": [
    "### Show Stats\n",
    "Implement the function `print_stats` to print loss and validation accuracy.  Use the global variables `valid_features` and `valid_labels` to calculate validation accuracy.  Use a keep probability of `1.0` to calculate the loss and validation accuracy."
   ]
  },
  {
   "cell_type": "code",
   "execution_count": 77,
   "metadata": {
    "collapsed": true
   },
   "outputs": [],
   "source": [
    "def print_stats(session, feature_batch, label_batch, cost, accuracy):\n",
    "    \"\"\"\n",
    "    Print information about loss and validation accuracy\n",
    "    : session: Current TensorFlow session\n",
    "    : feature_batch: Batch of Numpy image data\n",
    "    : label_batch: Batch of Numpy label data\n",
    "    : cost: TensorFlow cost function\n",
    "    : accuracy: TensorFlow accuracy function\n",
    "    \"\"\"\n",
    "    # TODO: Implement Function\n",
    "    loss = session.run(cost, feed_dict={x: feature_batch, y: label_batch, keep_prob: 1.0})\n",
    "    accuracy_validation = session.run(accuracy, feed_dict={x: valid_features, y: valid_labels, keep_prob: 1.0})\n",
    "    print('Loss: {loss}. Validation Accuracy: {accuracy}%'.format(loss=loss, accuracy=accuracy_validation * 100))"
   ]
  },
  {
   "cell_type": "markdown",
   "metadata": {},
   "source": [
    "### Hyperparameters\n",
    "Tune the following parameters:\n",
    "* Set `epochs` to the number of iterations until the network stops learning or start overfitting\n",
    "* Set `batch_size` to the highest number that your machine has memory for.  Most people set them to common sizes of memory:\n",
    " * 64\n",
    " * 128\n",
    " * 256\n",
    " * ...\n",
    "* Set `keep_probability` to the probability of keeping a node using dropout"
   ]
  },
  {
   "cell_type": "code",
   "execution_count": 78,
   "metadata": {
    "collapsed": true
   },
   "outputs": [],
   "source": [
    "# TODO: Tune Parameters\n",
    "epochs = 50\n",
    "batch_size = 512\n",
    "keep_probability = 0.6"
   ]
  },
  {
   "cell_type": "markdown",
   "metadata": {},
   "source": [
    "### Train on a Single CIFAR-10 Batch\n",
    "Instead of training the neural network on all the CIFAR-10 batches of data, let's use a single batch. This should save time while you iterate on the model to get a better accuracy.  Once the final validation accuracy is 50% or greater, run the model on all the data in the next section."
   ]
  },
  {
   "cell_type": "code",
   "execution_count": 79,
   "metadata": {},
   "outputs": [
    {
     "name": "stdout",
     "output_type": "stream",
     "text": [
      "Checking the Training on a Single Batch...\n",
      "Epoch  1, CIFAR-10 Batch 1:  Loss: 2.112386465072632. Validation Accuracy: 22.439999878406525%\n",
      "Epoch  2, CIFAR-10 Batch 1:  Loss: 1.9296400547027588. Validation Accuracy: 30.500000715255737%\n",
      "Epoch  3, CIFAR-10 Batch 1:  Loss: 1.7899926900863647. Validation Accuracy: 34.55999791622162%\n",
      "Epoch  4, CIFAR-10 Batch 1:  Loss: 1.5958476066589355. Validation Accuracy: 40.49999713897705%\n",
      "Epoch  5, CIFAR-10 Batch 1:  Loss: 1.4865628480911255. Validation Accuracy: 42.879995703697205%\n",
      "Epoch  6, CIFAR-10 Batch 1:  Loss: 1.4552333354949951. Validation Accuracy: 42.159998416900635%\n",
      "Epoch  7, CIFAR-10 Batch 1:  Loss: 1.2848167419433594. Validation Accuracy: 45.85999250411987%\n",
      "Epoch  8, CIFAR-10 Batch 1:  Loss: 1.2318305969238281. Validation Accuracy: 46.63999676704407%\n",
      "Epoch  9, CIFAR-10 Batch 1:  Loss: 1.102603554725647. Validation Accuracy: 49.73999559879303%\n",
      "Epoch 10, CIFAR-10 Batch 1:  Loss: 0.9761362075805664. Validation Accuracy: 50.51999092102051%\n",
      "Epoch 11, CIFAR-10 Batch 1:  Loss: 0.9501869678497314. Validation Accuracy: 49.4799941778183%\n",
      "Epoch 12, CIFAR-10 Batch 1:  Loss: 0.8327555656433105. Validation Accuracy: 51.479995250701904%\n",
      "Epoch 13, CIFAR-10 Batch 1:  Loss: 0.781561553478241. Validation Accuracy: 51.2999951839447%\n",
      "Epoch 14, CIFAR-10 Batch 1:  Loss: 0.7082160711288452. Validation Accuracy: 50.71999430656433%\n",
      "Epoch 15, CIFAR-10 Batch 1:  Loss: 0.7874104380607605. Validation Accuracy: 46.439993381500244%\n",
      "Epoch 16, CIFAR-10 Batch 1:  Loss: 0.6090439558029175. Validation Accuracy: 51.079994440078735%\n",
      "Epoch 17, CIFAR-10 Batch 1:  Loss: 0.5180507302284241. Validation Accuracy: 50.97999572753906%\n",
      "Epoch 18, CIFAR-10 Batch 1:  Loss: 0.504997968673706. Validation Accuracy: 49.65999722480774%\n",
      "Epoch 19, CIFAR-10 Batch 1:  Loss: 0.4463416337966919. Validation Accuracy: 49.79999661445618%\n",
      "Epoch 20, CIFAR-10 Batch 1:  Loss: 0.44019615650177. Validation Accuracy: 52.119994163513184%\n",
      "Epoch 21, CIFAR-10 Batch 1:  Loss: 0.41630131006240845. Validation Accuracy: 49.57999587059021%\n",
      "Epoch 22, CIFAR-10 Batch 1:  Loss: 0.34633928537368774. Validation Accuracy: 49.9799907207489%\n",
      "Epoch 23, CIFAR-10 Batch 1:  Loss: 0.3267439901828766. Validation Accuracy: 51.239991188049316%\n",
      "Epoch 24, CIFAR-10 Batch 1:  Loss: 0.41490423679351807. Validation Accuracy: 49.83999729156494%\n",
      "Epoch 25, CIFAR-10 Batch 1:  Loss: 0.24395625293254852. Validation Accuracy: 52.4199903011322%\n",
      "Epoch 26, CIFAR-10 Batch 1:  Loss: 0.1979532241821289. Validation Accuracy: 52.97999978065491%\n",
      "Epoch 27, CIFAR-10 Batch 1:  Loss: 0.24982716143131256. Validation Accuracy: 50.31999349594116%\n",
      "Epoch 28, CIFAR-10 Batch 1:  Loss: 0.17547568678855896. Validation Accuracy: 51.819998025894165%\n",
      "Epoch 29, CIFAR-10 Batch 1:  Loss: 0.17274662852287292. Validation Accuracy: 50.37999153137207%\n",
      "Epoch 30, CIFAR-10 Batch 1:  Loss: 0.18824349343776703. Validation Accuracy: 50.759994983673096%\n",
      "Epoch 31, CIFAR-10 Batch 1:  Loss: 0.10863298177719116. Validation Accuracy: 51.379990577697754%\n",
      "Epoch 32, CIFAR-10 Batch 1:  Loss: 0.0985676571726799. Validation Accuracy: 51.83999538421631%\n",
      "Epoch 33, CIFAR-10 Batch 1:  Loss: 0.16626615822315216. Validation Accuracy: 48.879992961883545%\n",
      "Epoch 34, CIFAR-10 Batch 1:  Loss: 0.09283213317394257. Validation Accuracy: 51.43998861312866%\n",
      "Epoch 35, CIFAR-10 Batch 1:  Loss: 0.09210778772830963. Validation Accuracy: 50.199997425079346%\n",
      "Epoch 36, CIFAR-10 Batch 1:  Loss: 0.09310521185398102. Validation Accuracy: 49.57999587059021%\n",
      "Epoch 37, CIFAR-10 Batch 1:  Loss: 0.12186823785305023. Validation Accuracy: 49.63999688625336%\n",
      "Epoch 38, CIFAR-10 Batch 1:  Loss: 0.08537490665912628. Validation Accuracy: 50.59999227523804%\n",
      "Epoch 39, CIFAR-10 Batch 1:  Loss: 0.08310168981552124. Validation Accuracy: 51.419997215270996%\n",
      "Epoch 40, CIFAR-10 Batch 1:  Loss: 0.10414867103099823. Validation Accuracy: 49.459996819496155%\n",
      "Epoch 41, CIFAR-10 Batch 1:  Loss: 0.05951491743326187. Validation Accuracy: 49.6599942445755%\n",
      "Epoch 42, CIFAR-10 Batch 1:  Loss: 0.039994921535253525. Validation Accuracy: 52.779990434646606%\n",
      "Epoch 43, CIFAR-10 Batch 1:  Loss: 0.02539680339396. Validation Accuracy: 53.019994497299194%\n",
      "Epoch 44, CIFAR-10 Batch 1:  Loss: 0.06413556635379791. Validation Accuracy: 52.059996128082275%\n",
      "Epoch 45, CIFAR-10 Batch 1:  Loss: 0.02415056899189949. Validation Accuracy: 53.53999733924866%\n",
      "Epoch 46, CIFAR-10 Batch 1:  Loss: 0.04194813594222069. Validation Accuracy: 51.17999315261841%\n",
      "Epoch 47, CIFAR-10 Batch 1:  Loss: 0.06781558692455292. Validation Accuracy: 50.73999762535095%\n",
      "Epoch 48, CIFAR-10 Batch 1:  Loss: 0.031295046210289. Validation Accuracy: 53.0799925327301%\n",
      "Epoch 49, CIFAR-10 Batch 1:  Loss: 0.029420342296361923. Validation Accuracy: 51.51999592781067%\n",
      "Epoch 50, CIFAR-10 Batch 1:  Loss: 0.008786184713244438. Validation Accuracy: 52.12000012397766%\n"
     ]
    }
   ],
   "source": [
    "\"\"\"\n",
    "DON'T MODIFY ANYTHING IN THIS CELL\n",
    "\"\"\"\n",
    "print('Checking the Training on a Single Batch...')\n",
    "with tf.Session() as sess:\n",
    "    # Initializing the variables\n",
    "    sess.run(tf.global_variables_initializer())\n",
    "    \n",
    "    # Training cycle\n",
    "    for epoch in range(epochs):\n",
    "        batch_i = 1\n",
    "        for batch_features, batch_labels in helper.load_preprocess_training_batch(batch_i, batch_size):\n",
    "            train_neural_network(sess, optimizer, keep_probability, batch_features, batch_labels)\n",
    "        print('Epoch {:>2}, CIFAR-10 Batch {}:  '.format(epoch + 1, batch_i), end='')\n",
    "        print_stats(sess, batch_features, batch_labels, cost, accuracy)"
   ]
  },
  {
   "cell_type": "markdown",
   "metadata": {},
   "source": [
    "### Fully Train the Model\n",
    "Now that you got a good accuracy with a single CIFAR-10 batch, try it with all five batches."
   ]
  },
  {
   "cell_type": "code",
   "execution_count": 80,
   "metadata": {},
   "outputs": [
    {
     "name": "stdout",
     "output_type": "stream",
     "text": [
      "Training...\n",
      "Epoch  1, CIFAR-10 Batch 1:  Loss: 2.133114814758301. Validation Accuracy: 20.77999860048294%\n",
      "Epoch  1, CIFAR-10 Batch 2:  Loss: 1.8710923194885254. Validation Accuracy: 30.09999990463257%\n",
      "Epoch  1, CIFAR-10 Batch 3:  Loss: 1.6954796314239502. Validation Accuracy: 36.079999804496765%\n",
      "Epoch  1, CIFAR-10 Batch 4:  Loss: 1.5381003618240356. Validation Accuracy: 39.61999714374542%\n",
      "Epoch  1, CIFAR-10 Batch 5:  Loss: 1.5547409057617188. Validation Accuracy: 41.659995913505554%\n",
      "Epoch  2, CIFAR-10 Batch 1:  Loss: 1.5898619890213013. Validation Accuracy: 40.859997272491455%\n",
      "Epoch  2, CIFAR-10 Batch 2:  Loss: 1.4311288595199585. Validation Accuracy: 46.279990673065186%\n",
      "Epoch  2, CIFAR-10 Batch 3:  Loss: 1.2271397113800049. Validation Accuracy: 48.01999628543854%\n",
      "Epoch  2, CIFAR-10 Batch 4:  Loss: 1.260594129562378. Validation Accuracy: 48.239994049072266%\n",
      "Epoch  2, CIFAR-10 Batch 5:  Loss: 1.310518741607666. Validation Accuracy: 49.39999580383301%\n",
      "Epoch  3, CIFAR-10 Batch 1:  Loss: 1.2787153720855713. Validation Accuracy: 51.57999396324158%\n",
      "Epoch  3, CIFAR-10 Batch 2:  Loss: 1.217635154724121. Validation Accuracy: 50.739991664886475%\n",
      "Epoch  3, CIFAR-10 Batch 3:  Loss: 1.082046389579773. Validation Accuracy: 51.979994773864746%\n",
      "Epoch  3, CIFAR-10 Batch 4:  Loss: 1.0801225900650024. Validation Accuracy: 53.3799946308136%\n",
      "Epoch  3, CIFAR-10 Batch 5:  Loss: 1.1274640560150146. Validation Accuracy: 54.13999557495117%\n",
      "Epoch  4, CIFAR-10 Batch 1:  Loss: 1.1457934379577637. Validation Accuracy: 54.899996519088745%\n",
      "Epoch  4, CIFAR-10 Batch 2:  Loss: 1.1078331470489502. Validation Accuracy: 51.659995317459106%\n",
      "Epoch  4, CIFAR-10 Batch 3:  Loss: 0.980884850025177. Validation Accuracy: 53.61999273300171%\n",
      "Epoch  4, CIFAR-10 Batch 4:  Loss: 0.9656352996826172. Validation Accuracy: 56.43998980522156%\n",
      "Epoch  4, CIFAR-10 Batch 5:  Loss: 0.994823157787323. Validation Accuracy: 56.69999122619629%\n",
      "Epoch  5, CIFAR-10 Batch 1:  Loss: 1.073501467704773. Validation Accuracy: 55.65999150276184%\n",
      "Epoch  5, CIFAR-10 Batch 2:  Loss: 0.989119291305542. Validation Accuracy: 54.37999367713928%\n",
      "Epoch  5, CIFAR-10 Batch 3:  Loss: 0.9184330105781555. Validation Accuracy: 56.55999779701233%\n",
      "Epoch  5, CIFAR-10 Batch 4:  Loss: 0.884461522102356. Validation Accuracy: 57.33999013900757%\n",
      "Epoch  5, CIFAR-10 Batch 5:  Loss: 0.9100804924964905. Validation Accuracy: 57.079994678497314%\n",
      "Epoch  6, CIFAR-10 Batch 1:  Loss: 0.9918211698532104. Validation Accuracy: 55.45998811721802%\n",
      "Epoch  6, CIFAR-10 Batch 2:  Loss: 0.9060301184654236. Validation Accuracy: 58.379995822906494%\n",
      "Epoch  6, CIFAR-10 Batch 3:  Loss: 0.865942120552063. Validation Accuracy: 56.7599892616272%\n",
      "Epoch  6, CIFAR-10 Batch 4:  Loss: 0.8291433453559875. Validation Accuracy: 58.379995822906494%\n",
      "Epoch  6, CIFAR-10 Batch 5:  Loss: 0.7810197472572327. Validation Accuracy: 58.9199960231781%\n",
      "Epoch  7, CIFAR-10 Batch 1:  Loss: 0.8518117666244507. Validation Accuracy: 56.999993324279785%\n",
      "Epoch  7, CIFAR-10 Batch 2:  Loss: 0.8005905747413635. Validation Accuracy: 59.41999554634094%\n",
      "Epoch  7, CIFAR-10 Batch 3:  Loss: 0.8293656706809998. Validation Accuracy: 57.539987564086914%\n",
      "Epoch  7, CIFAR-10 Batch 4:  Loss: 0.7329639196395874. Validation Accuracy: 60.85999011993408%\n",
      "Epoch  7, CIFAR-10 Batch 5:  Loss: 0.7103468775749207. Validation Accuracy: 59.59998965263367%\n",
      "Epoch  8, CIFAR-10 Batch 1:  Loss: 0.80265873670578. Validation Accuracy: 57.37999081611633%\n",
      "Epoch  8, CIFAR-10 Batch 2:  Loss: 0.7477820515632629. Validation Accuracy: 59.859997034072876%\n",
      "Epoch  8, CIFAR-10 Batch 3:  Loss: 0.7071428894996643. Validation Accuracy: 60.03999710083008%\n",
      "Epoch  8, CIFAR-10 Batch 4:  Loss: 0.6854386329650879. Validation Accuracy: 61.699992418289185%\n",
      "Epoch  8, CIFAR-10 Batch 5:  Loss: 0.6501626968383789. Validation Accuracy: 59.3799889087677%\n",
      "Epoch  9, CIFAR-10 Batch 1:  Loss: 0.7309389114379883. Validation Accuracy: 60.959988832473755%\n",
      "Epoch  9, CIFAR-10 Batch 2:  Loss: 0.6773421168327332. Validation Accuracy: 60.3399932384491%\n",
      "Epoch  9, CIFAR-10 Batch 3:  Loss: 0.6403054594993591. Validation Accuracy: 61.09999418258667%\n",
      "Epoch  9, CIFAR-10 Batch 4:  Loss: 0.6700164675712585. Validation Accuracy: 60.31999588012695%\n",
      "Epoch  9, CIFAR-10 Batch 5:  Loss: 0.6346612572669983. Validation Accuracy: 59.31999087333679%\n",
      "Epoch 10, CIFAR-10 Batch 1:  Loss: 0.6362859010696411. Validation Accuracy: 60.959988832473755%\n",
      "Epoch 10, CIFAR-10 Batch 2:  Loss: 0.60661780834198. Validation Accuracy: 60.99998950958252%\n",
      "Epoch 10, CIFAR-10 Batch 3:  Loss: 0.5788384079933167. Validation Accuracy: 61.6399884223938%\n",
      "Epoch 10, CIFAR-10 Batch 4:  Loss: 0.6097826957702637. Validation Accuracy: 60.719990730285645%\n",
      "Epoch 10, CIFAR-10 Batch 5:  Loss: 0.606074333190918. Validation Accuracy: 60.11998653411865%\n",
      "Epoch 11, CIFAR-10 Batch 1:  Loss: 0.5896614193916321. Validation Accuracy: 62.259989976882935%\n",
      "Epoch 11, CIFAR-10 Batch 2:  Loss: 0.5912253856658936. Validation Accuracy: 59.65999364852905%\n",
      "Epoch 11, CIFAR-10 Batch 3:  Loss: 0.5506814122200012. Validation Accuracy: 60.55999398231506%\n",
      "Epoch 11, CIFAR-10 Batch 4:  Loss: 0.5236054062843323. Validation Accuracy: 61.65999174118042%\n",
      "Epoch 11, CIFAR-10 Batch 5:  Loss: 0.4688560962677002. Validation Accuracy: 62.73999214172363%\n",
      "Epoch 12, CIFAR-10 Batch 1:  Loss: 0.5370480418205261. Validation Accuracy: 60.61999201774597%\n",
      "Epoch 12, CIFAR-10 Batch 2:  Loss: 0.5726842284202576. Validation Accuracy: 58.219993114471436%\n",
      "Epoch 12, CIFAR-10 Batch 3:  Loss: 0.49385008215904236. Validation Accuracy: 62.179988622665405%\n",
      "Epoch 12, CIFAR-10 Batch 4:  Loss: 0.4711093604564667. Validation Accuracy: 60.91999411582947%\n",
      "Epoch 12, CIFAR-10 Batch 5:  Loss: 0.4838777780532837. Validation Accuracy: 60.61999201774597%\n",
      "Epoch 13, CIFAR-10 Batch 1:  Loss: 0.49335962533950806. Validation Accuracy: 61.299991607666016%\n",
      "Epoch 13, CIFAR-10 Batch 2:  Loss: 0.5680449604988098. Validation Accuracy: 58.85999798774719%\n",
      "Epoch 13, CIFAR-10 Batch 3:  Loss: 0.4901762008666992. Validation Accuracy: 61.1599862575531%\n",
      "Epoch 13, CIFAR-10 Batch 4:  Loss: 0.4038856327533722. Validation Accuracy: 63.37999105453491%\n",
      "Epoch 13, CIFAR-10 Batch 5:  Loss: 0.4291102886199951. Validation Accuracy: 61.279988288879395%\n",
      "Epoch 14, CIFAR-10 Batch 1:  Loss: 0.43147793412208557. Validation Accuracy: 62.519991397857666%\n",
      "Epoch 14, CIFAR-10 Batch 2:  Loss: 0.4607391953468323. Validation Accuracy: 61.27999424934387%\n",
      "Epoch 14, CIFAR-10 Batch 3:  Loss: 0.4452119469642639. Validation Accuracy: 61.73998713493347%\n",
      "Epoch 14, CIFAR-10 Batch 4:  Loss: 0.3541141450405121. Validation Accuracy: 63.53998780250549%\n",
      "Epoch 14, CIFAR-10 Batch 5:  Loss: 0.3916991353034973. Validation Accuracy: 63.35998773574829%\n",
      "Epoch 15, CIFAR-10 Batch 1:  Loss: 0.5160810947418213. Validation Accuracy: 59.79999303817749%\n",
      "Epoch 15, CIFAR-10 Batch 2:  Loss: 0.4841342866420746. Validation Accuracy: 61.91999316215515%\n",
      "Epoch 15, CIFAR-10 Batch 3:  Loss: 0.37227103114128113. Validation Accuracy: 62.85998821258545%\n",
      "Epoch 15, CIFAR-10 Batch 4:  Loss: 0.31986117362976074. Validation Accuracy: 62.55998611450195%\n",
      "Epoch 15, CIFAR-10 Batch 5:  Loss: 0.33444568514823914. Validation Accuracy: 64.09999132156372%\n",
      "Epoch 16, CIFAR-10 Batch 1:  Loss: 0.470500648021698. Validation Accuracy: 59.37999486923218%\n",
      "Epoch 16, CIFAR-10 Batch 2:  Loss: 0.43526917695999146. Validation Accuracy: 62.759989500045776%\n",
      "Epoch 16, CIFAR-10 Batch 3:  Loss: 0.3293321430683136. Validation Accuracy: 62.939995527267456%\n",
      "Epoch 16, CIFAR-10 Batch 4:  Loss: 0.32086777687072754. Validation Accuracy: 62.519991397857666%\n",
      "Epoch 16, CIFAR-10 Batch 5:  Loss: 0.3787159025669098. Validation Accuracy: 62.37998604774475%\n",
      "Epoch 17, CIFAR-10 Batch 1:  Loss: 0.3950554132461548. Validation Accuracy: 62.199991941452026%\n",
      "Epoch 17, CIFAR-10 Batch 2:  Loss: 0.3956074118614197. Validation Accuracy: 62.37998604774475%\n",
      "Epoch 17, CIFAR-10 Batch 3:  Loss: 0.2808140814304352. Validation Accuracy: 64.03999328613281%\n",
      "Epoch 17, CIFAR-10 Batch 4:  Loss: 0.3450261950492859. Validation Accuracy: 60.27998924255371%\n",
      "Epoch 17, CIFAR-10 Batch 5:  Loss: 0.3388839662075043. Validation Accuracy: 62.499988079071045%\n",
      "Epoch 18, CIFAR-10 Batch 1:  Loss: 0.3469374477863312. Validation Accuracy: 62.55998611450195%\n"
     ]
    },
    {
     "name": "stdout",
     "output_type": "stream",
     "text": [
      "Epoch 18, CIFAR-10 Batch 2:  Loss: 0.3607921898365021. Validation Accuracy: 62.099987268447876%\n",
      "Epoch 18, CIFAR-10 Batch 3:  Loss: 0.29387617111206055. Validation Accuracy: 62.7799928188324%\n",
      "Epoch 18, CIFAR-10 Batch 4:  Loss: 0.28354501724243164. Validation Accuracy: 61.43999099731445%\n",
      "Epoch 18, CIFAR-10 Batch 5:  Loss: 0.3721359670162201. Validation Accuracy: 59.77998971939087%\n",
      "Epoch 19, CIFAR-10 Batch 1:  Loss: 0.39521324634552. Validation Accuracy: 60.21999716758728%\n",
      "Epoch 19, CIFAR-10 Batch 2:  Loss: 0.3814820647239685. Validation Accuracy: 62.53998875617981%\n",
      "Epoch 19, CIFAR-10 Batch 3:  Loss: 0.26498305797576904. Validation Accuracy: 63.71999382972717%\n",
      "Epoch 19, CIFAR-10 Batch 4:  Loss: 0.2788582444190979. Validation Accuracy: 62.819987535476685%\n",
      "Epoch 19, CIFAR-10 Batch 5:  Loss: 0.31072133779525757. Validation Accuracy: 60.19998788833618%\n",
      "Epoch 20, CIFAR-10 Batch 1:  Loss: 0.3223065137863159. Validation Accuracy: 60.799992084503174%\n",
      "Epoch 20, CIFAR-10 Batch 2:  Loss: 0.35755065083503723. Validation Accuracy: 61.23999357223511%\n",
      "Epoch 20, CIFAR-10 Batch 3:  Loss: 0.3160502314567566. Validation Accuracy: 61.51999235153198%\n",
      "Epoch 20, CIFAR-10 Batch 4:  Loss: 0.2611727714538574. Validation Accuracy: 61.65999174118042%\n",
      "Epoch 20, CIFAR-10 Batch 5:  Loss: 0.24231375753879547. Validation Accuracy: 62.839990854263306%\n",
      "Epoch 21, CIFAR-10 Batch 1:  Loss: 0.2931784987449646. Validation Accuracy: 62.099987268447876%\n",
      "Epoch 21, CIFAR-10 Batch 2:  Loss: 0.30907970666885376. Validation Accuracy: 62.45999336242676%\n",
      "Epoch 21, CIFAR-10 Batch 3:  Loss: 0.2873729467391968. Validation Accuracy: 62.93998956680298%\n",
      "Epoch 21, CIFAR-10 Batch 4:  Loss: 0.3358149230480194. Validation Accuracy: 58.73998999595642%\n",
      "Epoch 21, CIFAR-10 Batch 5:  Loss: 0.28583574295043945. Validation Accuracy: 61.97998523712158%\n",
      "Epoch 22, CIFAR-10 Batch 1:  Loss: 0.29044777154922485. Validation Accuracy: 61.759984493255615%\n",
      "Epoch 22, CIFAR-10 Batch 2:  Loss: 0.2741652727127075. Validation Accuracy: 63.11999559402466%\n",
      "Epoch 22, CIFAR-10 Batch 3:  Loss: 0.25453856587409973. Validation Accuracy: 62.199991941452026%\n",
      "Epoch 22, CIFAR-10 Batch 4:  Loss: 0.22523720562458038. Validation Accuracy: 60.67999005317688%\n",
      "Epoch 22, CIFAR-10 Batch 5:  Loss: 0.2291119247674942. Validation Accuracy: 60.91999411582947%\n",
      "Epoch 23, CIFAR-10 Batch 1:  Loss: 0.28386396169662476. Validation Accuracy: 61.779987812042236%\n",
      "Epoch 23, CIFAR-10 Batch 2:  Loss: 0.2778901159763336. Validation Accuracy: 62.019991874694824%\n",
      "Epoch 23, CIFAR-10 Batch 3:  Loss: 0.16869500279426575. Validation Accuracy: 63.71999382972717%\n",
      "Epoch 23, CIFAR-10 Batch 4:  Loss: 0.21102634072303772. Validation Accuracy: 61.17998957633972%\n",
      "Epoch 23, CIFAR-10 Batch 5:  Loss: 0.24099309742450714. Validation Accuracy: 60.0399911403656%\n",
      "Epoch 24, CIFAR-10 Batch 1:  Loss: 0.2850867807865143. Validation Accuracy: 61.93999648094177%\n",
      "Epoch 24, CIFAR-10 Batch 2:  Loss: 0.2743920683860779. Validation Accuracy: 62.179988622665405%\n",
      "Epoch 24, CIFAR-10 Batch 3:  Loss: 0.14055442810058594. Validation Accuracy: 63.85998725891113%\n",
      "Epoch 24, CIFAR-10 Batch 4:  Loss: 0.16232164204120636. Validation Accuracy: 62.81999349594116%\n",
      "Epoch 24, CIFAR-10 Batch 5:  Loss: 0.15943749248981476. Validation Accuracy: 61.49998903274536%\n",
      "Epoch 25, CIFAR-10 Batch 1:  Loss: 0.2560867667198181. Validation Accuracy: 61.299991607666016%\n",
      "Epoch 25, CIFAR-10 Batch 2:  Loss: 0.24336950480937958. Validation Accuracy: 60.63999533653259%\n",
      "Epoch 25, CIFAR-10 Batch 3:  Loss: 0.1271400898694992. Validation Accuracy: 64.13998603820801%\n",
      "Epoch 25, CIFAR-10 Batch 4:  Loss: 0.17266322672367096. Validation Accuracy: 61.399996280670166%\n",
      "Epoch 25, CIFAR-10 Batch 5:  Loss: 0.1272839605808258. Validation Accuracy: 63.21998834609985%\n",
      "Epoch 26, CIFAR-10 Batch 1:  Loss: 0.1895201951265335. Validation Accuracy: 62.019991874694824%\n",
      "Epoch 26, CIFAR-10 Batch 2:  Loss: 0.2286045253276825. Validation Accuracy: 59.919995069503784%\n",
      "Epoch 26, CIFAR-10 Batch 3:  Loss: 0.15431421995162964. Validation Accuracy: 63.319987058639526%\n",
      "Epoch 26, CIFAR-10 Batch 4:  Loss: 0.16434013843536377. Validation Accuracy: 61.39999032020569%\n",
      "Epoch 26, CIFAR-10 Batch 5:  Loss: 0.12637366354465485. Validation Accuracy: 62.69999146461487%\n",
      "Epoch 27, CIFAR-10 Batch 1:  Loss: 0.1683485209941864. Validation Accuracy: 61.699992418289185%\n",
      "Epoch 27, CIFAR-10 Batch 2:  Loss: 0.2142220288515091. Validation Accuracy: 61.53998374938965%\n",
      "Epoch 27, CIFAR-10 Batch 3:  Loss: 0.12357491999864578. Validation Accuracy: 62.839990854263306%\n",
      "Epoch 27, CIFAR-10 Batch 4:  Loss: 0.13668373227119446. Validation Accuracy: 61.41998767852783%\n",
      "Epoch 27, CIFAR-10 Batch 5:  Loss: 0.13759656250476837. Validation Accuracy: 61.199986934661865%\n",
      "Epoch 28, CIFAR-10 Batch 1:  Loss: 0.20403972268104553. Validation Accuracy: 62.2999906539917%\n",
      "Epoch 28, CIFAR-10 Batch 2:  Loss: 0.17504028975963593. Validation Accuracy: 61.279988288879395%\n",
      "Epoch 28, CIFAR-10 Batch 3:  Loss: 0.1438729614019394. Validation Accuracy: 62.71998882293701%\n",
      "Epoch 28, CIFAR-10 Batch 4:  Loss: 0.151448056101799. Validation Accuracy: 59.47999358177185%\n",
      "Epoch 28, CIFAR-10 Batch 5:  Loss: 0.13783293962478638. Validation Accuracy: 60.25999188423157%\n",
      "Epoch 29, CIFAR-10 Batch 1:  Loss: 0.17031560838222504. Validation Accuracy: 60.91999411582947%\n",
      "Epoch 29, CIFAR-10 Batch 2:  Loss: 0.17898355424404144. Validation Accuracy: 61.05998754501343%\n",
      "Epoch 29, CIFAR-10 Batch 3:  Loss: 0.12914298474788666. Validation Accuracy: 62.37999200820923%\n",
      "Epoch 29, CIFAR-10 Batch 4:  Loss: 0.11929616332054138. Validation Accuracy: 61.43999099731445%\n",
      "Epoch 29, CIFAR-10 Batch 5:  Loss: 0.12240102887153625. Validation Accuracy: 62.09999322891235%\n",
      "Epoch 30, CIFAR-10 Batch 1:  Loss: 0.20371048152446747. Validation Accuracy: 61.099982261657715%\n",
      "Epoch 30, CIFAR-10 Batch 2:  Loss: 0.1838175505399704. Validation Accuracy: 62.339991331100464%\n",
      "Epoch 30, CIFAR-10 Batch 3:  Loss: 0.12121376395225525. Validation Accuracy: 63.57998847961426%\n",
      "Epoch 30, CIFAR-10 Batch 4:  Loss: 0.09593944996595383. Validation Accuracy: 62.37999200820923%\n",
      "Epoch 30, CIFAR-10 Batch 5:  Loss: 0.21085792779922485. Validation Accuracy: 59.07999277114868%\n",
      "Epoch 31, CIFAR-10 Batch 1:  Loss: 0.16213518381118774. Validation Accuracy: 61.83999180793762%\n",
      "Epoch 31, CIFAR-10 Batch 2:  Loss: 0.11899058520793915. Validation Accuracy: 61.75999045372009%\n",
      "Epoch 31, CIFAR-10 Batch 3:  Loss: 0.11688876152038574. Validation Accuracy: 63.05999159812927%\n",
      "Epoch 31, CIFAR-10 Batch 4:  Loss: 0.10090871155261993. Validation Accuracy: 62.279993295669556%\n",
      "Epoch 31, CIFAR-10 Batch 5:  Loss: 0.1494927853345871. Validation Accuracy: 59.99999642372131%\n",
      "Epoch 32, CIFAR-10 Batch 1:  Loss: 0.15305647253990173. Validation Accuracy: 61.87999248504639%\n",
      "Epoch 32, CIFAR-10 Batch 2:  Loss: 0.09533040970563889. Validation Accuracy: 62.819987535476685%\n",
      "Epoch 32, CIFAR-10 Batch 3:  Loss: 0.086033895611763. Validation Accuracy: 62.71998882293701%\n",
      "Epoch 32, CIFAR-10 Batch 4:  Loss: 0.06379017978906631. Validation Accuracy: 62.63999342918396%\n",
      "Epoch 32, CIFAR-10 Batch 5:  Loss: 0.08112449944019318. Validation Accuracy: 60.91999411582947%\n",
      "Epoch 33, CIFAR-10 Batch 1:  Loss: 0.1644417941570282. Validation Accuracy: 62.039995193481445%\n",
      "Epoch 33, CIFAR-10 Batch 2:  Loss: 0.09074924886226654. Validation Accuracy: 63.55998516082764%\n",
      "Epoch 33, CIFAR-10 Batch 3:  Loss: 0.0761040672659874. Validation Accuracy: 62.259989976882935%\n",
      "Epoch 33, CIFAR-10 Batch 4:  Loss: 0.06602802127599716. Validation Accuracy: 61.859989166259766%\n",
      "Epoch 33, CIFAR-10 Batch 5:  Loss: 0.104861319065094. Validation Accuracy: 59.819990396499634%\n",
      "Epoch 34, CIFAR-10 Batch 1:  Loss: 0.1304943710565567. Validation Accuracy: 61.139994859695435%\n",
      "Epoch 34, CIFAR-10 Batch 2:  Loss: 0.09372058510780334. Validation Accuracy: 62.93998956680298%\n",
      "Epoch 34, CIFAR-10 Batch 3:  Loss: 0.06663105636835098. Validation Accuracy: 63.85998725891113%\n",
      "Epoch 34, CIFAR-10 Batch 4:  Loss: 0.07310310006141663. Validation Accuracy: 61.79999113082886%\n",
      "Epoch 34, CIFAR-10 Batch 5:  Loss: 0.056502021849155426. Validation Accuracy: 61.819988489151%\n",
      "Epoch 35, CIFAR-10 Batch 1:  Loss: 0.10254089534282684. Validation Accuracy: 63.079988956451416%\n",
      "Epoch 35, CIFAR-10 Batch 2:  Loss: 0.09750626236200333. Validation Accuracy: 62.099987268447876%\n"
     ]
    },
    {
     "name": "stdout",
     "output_type": "stream",
     "text": [
      "Epoch 35, CIFAR-10 Batch 3:  Loss: 0.06028347462415695. Validation Accuracy: 62.259989976882935%\n",
      "Epoch 35, CIFAR-10 Batch 4:  Loss: 0.07587267458438873. Validation Accuracy: 63.03999423980713%\n",
      "Epoch 35, CIFAR-10 Batch 5:  Loss: 0.051696889102458954. Validation Accuracy: 62.09999322891235%\n",
      "Epoch 36, CIFAR-10 Batch 1:  Loss: 0.13408519327640533. Validation Accuracy: 62.739986181259155%\n",
      "Epoch 36, CIFAR-10 Batch 2:  Loss: 0.10943116247653961. Validation Accuracy: 62.43999004364014%\n",
      "Epoch 36, CIFAR-10 Batch 3:  Loss: 0.08228173851966858. Validation Accuracy: 61.13998889923096%\n",
      "Epoch 36, CIFAR-10 Batch 4:  Loss: 0.12000641226768494. Validation Accuracy: 61.539989709854126%\n",
      "Epoch 36, CIFAR-10 Batch 5:  Loss: 0.05996505916118622. Validation Accuracy: 62.119996547698975%\n",
      "Epoch 37, CIFAR-10 Batch 1:  Loss: 0.12324114143848419. Validation Accuracy: 62.35998868942261%\n",
      "Epoch 37, CIFAR-10 Batch 2:  Loss: 0.0852825865149498. Validation Accuracy: 62.759989500045776%\n",
      "Epoch 37, CIFAR-10 Batch 3:  Loss: 0.04156448692083359. Validation Accuracy: 60.99998950958252%\n",
      "Epoch 37, CIFAR-10 Batch 4:  Loss: 0.06210027262568474. Validation Accuracy: 62.13998794555664%\n",
      "Epoch 37, CIFAR-10 Batch 5:  Loss: 0.05013686418533325. Validation Accuracy: 63.35998773574829%\n",
      "Epoch 38, CIFAR-10 Batch 1:  Loss: 0.09275311231613159. Validation Accuracy: 62.99998760223389%\n",
      "Epoch 38, CIFAR-10 Batch 2:  Loss: 0.07204008102416992. Validation Accuracy: 63.19999098777771%\n",
      "Epoch 38, CIFAR-10 Batch 3:  Loss: 0.04054950177669525. Validation Accuracy: 61.79999113082886%\n",
      "Epoch 38, CIFAR-10 Batch 4:  Loss: 0.08228110522031784. Validation Accuracy: 60.63999533653259%\n",
      "Epoch 38, CIFAR-10 Batch 5:  Loss: 0.0774746835231781. Validation Accuracy: 62.939995527267456%\n",
      "Epoch 39, CIFAR-10 Batch 1:  Loss: 0.0750938355922699. Validation Accuracy: 61.49998903274536%\n",
      "Epoch 39, CIFAR-10 Batch 2:  Loss: 0.07424500584602356. Validation Accuracy: 63.53999376296997%\n",
      "Epoch 39, CIFAR-10 Batch 3:  Loss: 0.04848415404558182. Validation Accuracy: 62.35998868942261%\n",
      "Epoch 39, CIFAR-10 Batch 4:  Loss: 0.13480624556541443. Validation Accuracy: 58.17999243736267%\n",
      "Epoch 39, CIFAR-10 Batch 5:  Loss: 0.06590396165847778. Validation Accuracy: 61.699992418289185%\n",
      "Epoch 40, CIFAR-10 Batch 1:  Loss: 0.09762002527713776. Validation Accuracy: 61.55999302864075%\n",
      "Epoch 40, CIFAR-10 Batch 2:  Loss: 0.058646004647016525. Validation Accuracy: 64.33998346328735%\n",
      "Epoch 40, CIFAR-10 Batch 3:  Loss: 0.042816340923309326. Validation Accuracy: 63.1399929523468%\n",
      "Epoch 40, CIFAR-10 Batch 4:  Loss: 0.07659405469894409. Validation Accuracy: 59.11998748779297%\n",
      "Epoch 40, CIFAR-10 Batch 5:  Loss: 0.09017203748226166. Validation Accuracy: 60.539984703063965%\n",
      "Epoch 41, CIFAR-10 Batch 1:  Loss: 0.060367703437805176. Validation Accuracy: 62.51998543739319%\n",
      "Epoch 41, CIFAR-10 Batch 2:  Loss: 0.04735049232840538. Validation Accuracy: 63.51999044418335%\n",
      "Epoch 41, CIFAR-10 Batch 3:  Loss: 0.03429961949586868. Validation Accuracy: 62.71998882293701%\n",
      "Epoch 41, CIFAR-10 Batch 4:  Loss: 0.06692463159561157. Validation Accuracy: 60.77999472618103%\n",
      "Epoch 41, CIFAR-10 Batch 5:  Loss: 0.08859065175056458. Validation Accuracy: 60.979992151260376%\n",
      "Epoch 42, CIFAR-10 Batch 1:  Loss: 0.05333979055285454. Validation Accuracy: 62.1199905872345%\n",
      "Epoch 42, CIFAR-10 Batch 2:  Loss: 0.046901728957891464. Validation Accuracy: 62.19998598098755%\n",
      "Epoch 42, CIFAR-10 Batch 3:  Loss: 0.04469725862145424. Validation Accuracy: 61.61998510360718%\n",
      "Epoch 42, CIFAR-10 Batch 4:  Loss: 0.03258078172802925. Validation Accuracy: 62.35998868942261%\n",
      "Epoch 42, CIFAR-10 Batch 5:  Loss: 0.029675737023353577. Validation Accuracy: 63.35998773574829%\n",
      "Epoch 43, CIFAR-10 Batch 1:  Loss: 0.052305568009614944. Validation Accuracy: 62.37998604774475%\n",
      "Epoch 43, CIFAR-10 Batch 2:  Loss: 0.04273700714111328. Validation Accuracy: 62.45999336242676%\n",
      "Epoch 43, CIFAR-10 Batch 3:  Loss: 0.041228774935007095. Validation Accuracy: 62.4799907207489%\n",
      "Epoch 43, CIFAR-10 Batch 4:  Loss: 0.028067559003829956. Validation Accuracy: 62.6599907875061%\n",
      "Epoch 43, CIFAR-10 Batch 5:  Loss: 0.048242565244436264. Validation Accuracy: 61.359989643096924%\n",
      "Epoch 44, CIFAR-10 Batch 1:  Loss: 0.042467352002859116. Validation Accuracy: 62.67998814582825%\n",
      "Epoch 44, CIFAR-10 Batch 2:  Loss: 0.028013762086629868. Validation Accuracy: 62.999993562698364%\n",
      "Epoch 44, CIFAR-10 Batch 3:  Loss: 0.05395107343792915. Validation Accuracy: 63.159990310668945%\n",
      "Epoch 44, CIFAR-10 Batch 4:  Loss: 0.025419022887945175. Validation Accuracy: 61.57999038696289%\n",
      "Epoch 44, CIFAR-10 Batch 5:  Loss: 0.02001378871500492. Validation Accuracy: 62.199991941452026%\n",
      "Epoch 45, CIFAR-10 Batch 1:  Loss: 0.03457215428352356. Validation Accuracy: 63.59999179840088%\n",
      "Epoch 45, CIFAR-10 Batch 2:  Loss: 0.04142811894416809. Validation Accuracy: 62.49999403953552%\n",
      "Epoch 45, CIFAR-10 Batch 3:  Loss: 0.037863340228796005. Validation Accuracy: 63.639992475509644%\n",
      "Epoch 45, CIFAR-10 Batch 4:  Loss: 0.03431786596775055. Validation Accuracy: 61.23999357223511%\n",
      "Epoch 45, CIFAR-10 Batch 5:  Loss: 0.020080510526895523. Validation Accuracy: 62.399983406066895%\n",
      "Epoch 46, CIFAR-10 Batch 1:  Loss: 0.04573917016386986. Validation Accuracy: 63.27998638153076%\n",
      "Epoch 46, CIFAR-10 Batch 2:  Loss: 0.03006717376410961. Validation Accuracy: 61.4599883556366%\n",
      "Epoch 46, CIFAR-10 Batch 3:  Loss: 0.05017717555165291. Validation Accuracy: 62.49999403953552%\n",
      "Epoch 46, CIFAR-10 Batch 4:  Loss: 0.041515398770570755. Validation Accuracy: 61.69998645782471%\n",
      "Epoch 46, CIFAR-10 Batch 5:  Loss: 0.034637950360774994. Validation Accuracy: 61.65998578071594%\n",
      "Epoch 47, CIFAR-10 Batch 1:  Loss: 0.04306434094905853. Validation Accuracy: 63.079988956451416%\n",
      "Epoch 47, CIFAR-10 Batch 2:  Loss: 0.03677274286746979. Validation Accuracy: 62.53999471664429%\n",
      "Epoch 47, CIFAR-10 Batch 3:  Loss: 0.03129637613892555. Validation Accuracy: 62.759995460510254%\n",
      "Epoch 47, CIFAR-10 Batch 4:  Loss: 0.03533705696463585. Validation Accuracy: 61.539989709854126%\n",
      "Epoch 47, CIFAR-10 Batch 5:  Loss: 0.02910517156124115. Validation Accuracy: 62.2999906539917%\n",
      "Epoch 48, CIFAR-10 Batch 1:  Loss: 0.048874758183956146. Validation Accuracy: 61.87999248504639%\n",
      "Epoch 48, CIFAR-10 Batch 2:  Loss: 0.03877870738506317. Validation Accuracy: 61.07999086380005%\n",
      "Epoch 48, CIFAR-10 Batch 3:  Loss: 0.03857656195759773. Validation Accuracy: 62.659984827041626%\n",
      "Epoch 48, CIFAR-10 Batch 4:  Loss: 0.051930852234363556. Validation Accuracy: 60.43998599052429%\n",
      "Epoch 48, CIFAR-10 Batch 5:  Loss: 0.027874380350112915. Validation Accuracy: 62.67998814582825%\n",
      "Epoch 49, CIFAR-10 Batch 1:  Loss: 0.04543067887425423. Validation Accuracy: 63.01998496055603%\n",
      "Epoch 49, CIFAR-10 Batch 2:  Loss: 0.01607951894402504. Validation Accuracy: 63.03999423980713%\n",
      "Epoch 49, CIFAR-10 Batch 3:  Loss: 0.035100050270557404. Validation Accuracy: 63.05999159812927%\n",
      "Epoch 49, CIFAR-10 Batch 4:  Loss: 0.02083820477128029. Validation Accuracy: 63.1399929523468%\n",
      "Epoch 49, CIFAR-10 Batch 5:  Loss: 0.020771734416484833. Validation Accuracy: 61.619991064071655%\n",
      "Epoch 50, CIFAR-10 Batch 1:  Loss: 0.046991102397441864. Validation Accuracy: 62.13998794555664%\n",
      "Epoch 50, CIFAR-10 Batch 2:  Loss: 0.04188030585646629. Validation Accuracy: 61.75999045372009%\n",
      "Epoch 50, CIFAR-10 Batch 3:  Loss: 0.03359111770987511. Validation Accuracy: 62.359994649887085%\n",
      "Epoch 50, CIFAR-10 Batch 4:  Loss: 0.03475800156593323. Validation Accuracy: 60.67999601364136%\n",
      "Epoch 50, CIFAR-10 Batch 5:  Loss: 0.018845897167921066. Validation Accuracy: 62.07998991012573%\n"
     ]
    }
   ],
   "source": [
    "\"\"\"\n",
    "DON'T MODIFY ANYTHING IN THIS CELL\n",
    "\"\"\"\n",
    "save_model_path = './image_classification'\n",
    "\n",
    "print('Training...')\n",
    "with tf.Session() as sess:\n",
    "    # Initializing the variables\n",
    "    sess.run(tf.global_variables_initializer())\n",
    "    \n",
    "    # Training cycle\n",
    "    for epoch in range(epochs):\n",
    "        # Loop over all batches\n",
    "        n_batches = 5\n",
    "        for batch_i in range(1, n_batches + 1):\n",
    "            for batch_features, batch_labels in helper.load_preprocess_training_batch(batch_i, batch_size):\n",
    "                train_neural_network(sess, optimizer, keep_probability, batch_features, batch_labels)\n",
    "            print('Epoch {:>2}, CIFAR-10 Batch {}:  '.format(epoch + 1, batch_i), end='')\n",
    "            print_stats(sess, batch_features, batch_labels, cost, accuracy)\n",
    "            \n",
    "    # Save Model\n",
    "    saver = tf.train.Saver()\n",
    "    save_path = saver.save(sess, save_model_path)"
   ]
  },
  {
   "cell_type": "markdown",
   "metadata": {},
   "source": [
    "# Checkpoint\n",
    "The model has been saved to disk.\n",
    "## Test Model\n",
    "Test your model against the test dataset.  This will be your final accuracy. You should have an accuracy greater than 50%. If you don't, keep tweaking the model architecture and parameters."
   ]
  },
  {
   "cell_type": "code",
   "execution_count": 81,
   "metadata": {},
   "outputs": [
    {
     "name": "stdout",
     "output_type": "stream",
     "text": [
      "INFO:tensorflow:Restoring parameters from ./image_classification\n",
      "Testing Accuracy: 0.6218462765216828\n",
      "\n"
     ]
    },
    {
     "data": {
      "image/png": "[encoded data removed]",
      "text/plain": [
       "<matplotlib.figure.Figure at 0x7f37fdc87f98>"
      ]
     },
     "metadata": {
      "image/png": {
       "height": 319,
       "width": 349
      }
     },
     "output_type": "display_data"
    }
   ],
   "source": [
    "\"\"\"\n",
    "DON'T MODIFY ANYTHING IN THIS CELL\n",
    "\"\"\"\n",
    "%matplotlib inline\n",
    "%config InlineBackend.figure_format = 'retina'\n",
    "\n",
    "import tensorflow as tf\n",
    "import pickle\n",
    "import helper\n",
    "import random\n",
    "\n",
    "# Set batch size if not already set\n",
    "try:\n",
    "    if batch_size:\n",
    "        pass\n",
    "except NameError:\n",
    "    batch_size = 64\n",
    "\n",
    "save_model_path = './image_classification'\n",
    "n_samples = 4\n",
    "top_n_predictions = 3\n",
    "\n",
    "def test_model():\n",
    "    \"\"\"\n",
    "    Test the saved model against the test dataset\n",
    "    \"\"\"\n",
    "\n",
    "    test_features, test_labels = pickle.load(open('preprocess_training.p', mode='rb'))\n",
    "    loaded_graph = tf.Graph()\n",
    "\n",
    "    with tf.Session(graph=loaded_graph) as sess:\n",
    "        # Load model\n",
    "        loader = tf.train.import_meta_graph(save_model_path + '.meta')\n",
    "        loader.restore(sess, save_model_path)\n",
    "\n",
    "        # Get Tensors from loaded model\n",
    "        loaded_x = loaded_graph.get_tensor_by_name('x:0')\n",
    "        loaded_y = loaded_graph.get_tensor_by_name('y:0')\n",
    "        loaded_keep_prob = loaded_graph.get_tensor_by_name('keep_prob:0')\n",
    "        loaded_logits = loaded_graph.get_tensor_by_name('logits:0')\n",
    "        loaded_acc = loaded_graph.get_tensor_by_name('accuracy:0')\n",
    "        \n",
    "        # Get accuracy in batches for memory limitations\n",
    "        test_batch_acc_total = 0\n",
    "        test_batch_count = 0\n",
    "        \n",
    "        for train_feature_batch, train_label_batch in helper.batch_features_labels(test_features, test_labels, batch_size):\n",
    "            test_batch_acc_total += sess.run(\n",
    "                loaded_acc,\n",
    "                feed_dict={loaded_x: train_feature_batch, loaded_y: train_label_batch, loaded_keep_prob: 1.0})\n",
    "            test_batch_count += 1\n",
    "\n",
    "        print('Testing Accuracy: {}\\n'.format(test_batch_acc_total/test_batch_count))\n",
    "\n",
    "        # Print Random Samples\n",
    "        random_test_features, random_test_labels = tuple(zip(*random.sample(list(zip(test_features, test_labels)), n_samples)))\n",
    "        random_test_predictions = sess.run(\n",
    "            tf.nn.top_k(tf.nn.softmax(loaded_logits), top_n_predictions),\n",
    "            feed_dict={loaded_x: random_test_features, loaded_y: random_test_labels, loaded_keep_prob: 1.0})\n",
    "        helper.display_image_predictions(random_test_features, random_test_labels, random_test_predictions)\n",
    "\n",
    "\n",
    "test_model()"
   ]
  },
  {
   "cell_type": "markdown",
   "metadata": {},
   "source": [
    "## Why 50-70% Accuracy?\n",
    "You might be wondering why you can't get an accuracy any higher. First things first, 50% isn't bad for a simple CNN.  Pure guessing would get you 10% accuracy. However, you might notice people are getting scores [well above 70%](http://rodrigob.github.io/are_we_there_yet/build/classification_datasets_results.html#43494641522d3130).  That's because we haven't taught you all there is to know about neural networks. We still need to cover a few more techniques.\n",
    "## Submitting This Project\n",
    "When submitting this project, make sure to run all the cells before saving the notebook.  Save the notebook file as \"dlnd_image_classification.ipynb\" and save it as a HTML file under \"File\" -> \"Download as\".  Include the \"helper.py\" and \"problem_unittests.py\" files in your submission."
   ]
  }
 ],
 "metadata": {
  "kernelspec": {
   "display_name": "Python 3",
   "language": "python",
   "name": "python3"
  },
  "language_info": {
   "codemirror_mode": {
    "name": "ipython",
    "version": 3
   },
   "file_extension": ".py",
   "mimetype": "text/x-python",
   "name": "python",
   "nbconvert_exporter": "python",
   "pygments_lexer": "ipython3",
   "version": "3.5.3"
  }
 },
 "nbformat": 4,
 "nbformat_minor": 1
}
